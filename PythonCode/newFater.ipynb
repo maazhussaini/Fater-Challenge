{
 "cells": [
  {
   "cell_type": "code",
   "execution_count": 1,
   "metadata": {},
   "outputs": [],
   "source": [
    "import pandas as pd\n",
    "import numpy as np\n",
    "import datetime as dt\n",
    "import matplotlib.pyplot as plt\n",
    "import seaborn as sns"
   ]
  },
  {
   "cell_type": "code",
   "execution_count": 2,
   "metadata": {},
   "outputs": [],
   "source": [
    "registry_df = pd.read_csv('DataSets/registry_game.csv')\n",
    "product_df = pd.read_csv('DataSets/product_loaded.csv')\n",
    "ean_df = pd.read_csv('DataSets/product_ean_conversion.csv')\n",
    "missions_df = pd.read_csv('DataSets/missions_players.csv')\n",
    "accesses_df = pd.read_csv('DataSets/app_accesses.csv')\n",
    "awards_df = pd.read_csv('DataSets/awards_moms.csv')\n"
   ]
  },
  {
   "cell_type": "code",
   "execution_count": 3,
   "metadata": {},
   "outputs": [
    {
     "data": {
      "text/plain": [
       "'\\nprint(registry_df.head())\\nprint(product_df.head())\\nprint(ean_df.head())\\nprint(missions_df.head())\\nprint(accesses_df.head())\\nprint(awards_df.head())\\n'"
      ]
     },
     "execution_count": 3,
     "metadata": {},
     "output_type": "execute_result"
    }
   ],
   "source": [
    "\"\"\"\n",
    "print(registry_df.head())\n",
    "print(product_df.head())\n",
    "print(ean_df.head())\n",
    "print(missions_df.head())\n",
    "print(accesses_df.head())\n",
    "print(awards_df.head())\n",
    "\"\"\""
   ]
  },
  {
   "cell_type": "code",
   "execution_count": null,
   "metadata": {},
   "outputs": [],
   "source": [
    "print(registry_df.describe())\n",
    "print(product_df.describe())\n",
    "print(ean_df.describe())\n",
    "print(missions_df.describe())\n",
    "print(accesses_df.describe())\n",
    "print(awards_df.describe())"
   ]
  },
  {
   "cell_type": "code",
   "execution_count": 4,
   "metadata": {},
   "outputs": [
    {
     "name": "stdout",
     "output_type": "stream",
     "text": [
      "<class 'pandas.core.frame.DataFrame'>\n",
      "RangeIndex: 45971 entries, 0 to 45970\n",
      "Data columns (total 9 columns):\n",
      " #   Column               Non-Null Count  Dtype  \n",
      "---  ------               --------------  -----  \n",
      " 0   id_player            45971 non-null  int64  \n",
      " 1   DtaRegUserData       45971 non-null  object \n",
      " 2   DtaPresuntoParto     43105 non-null  object \n",
      " 3   ETA_MM_BambinoTODAY  43105 non-null  float64\n",
      " 4   ETA_MM_BambinoREG    43103 non-null  float64\n",
      " 5   Provincia            45697 non-null  object \n",
      " 6   SiglaProvincia       43069 non-null  object \n",
      " 7   Comune               24642 non-null  object \n",
      " 8   Regione              45677 non-null  object \n",
      "dtypes: float64(2), int64(1), object(6)\n",
      "memory usage: 3.2+ MB\n",
      "None\n",
      "\n",
      "\n",
      "<class 'pandas.core.frame.DataFrame'>\n",
      "RangeIndex: 1596529 entries, 0 to 1596528\n",
      "Data columns (total 5 columns):\n",
      " #   Column         Non-Null Count    Dtype  \n",
      "---  ------         --------------    -----  \n",
      " 0   id_player      1596529 non-null  int64  \n",
      " 1   missionDetail  501220 non-null   float64\n",
      " 2   points         1596529 non-null  int64  \n",
      " 3   created_at     1596529 non-null  object \n",
      " 4   EAN            1586443 non-null  object \n",
      "dtypes: float64(1), int64(2), object(2)\n",
      "memory usage: 60.9+ MB\n",
      "None\n",
      "\n",
      "\n",
      "<class 'pandas.core.frame.DataFrame'>\n",
      "RangeIndex: 239 entries, 0 to 238\n",
      "Data columns (total 5 columns):\n",
      " #   Column         Non-Null Count  Dtype \n",
      "---  ------         --------------  ----- \n",
      " 0   EAN            239 non-null    int64 \n",
      " 1   REFERENZA_DES  239 non-null    object\n",
      " 2   SEGMENTO_DES   239 non-null    object\n",
      " 3   OCCUSO_DES     239 non-null    object\n",
      " 4   TIER           239 non-null    object\n",
      "dtypes: int64(1), object(4)\n",
      "memory usage: 9.5+ KB\n",
      "None\n",
      "\n",
      "\n",
      "<class 'pandas.core.frame.DataFrame'>\n",
      "RangeIndex: 119677 entries, 0 to 119676\n",
      "Data columns (total 7 columns):\n",
      " #   Column           Non-Null Count   Dtype  \n",
      "---  ------           --------------   -----  \n",
      " 0   id_player        119677 non-null  int64  \n",
      " 1   missionDetailId  119677 non-null  float64\n",
      " 2   missionSchemaId  119677 non-null  float64\n",
      " 3   type             119677 non-null  object \n",
      " 4   subType          119677 non-null  object \n",
      " 5   points           119677 non-null  float64\n",
      " 6   created_at       119677 non-null  object \n",
      "dtypes: float64(3), int64(1), object(3)\n",
      "memory usage: 6.4+ MB\n",
      "None\n",
      "\n",
      "\n",
      "<class 'pandas.core.frame.DataFrame'>\n",
      "RangeIndex: 975948 entries, 0 to 975947\n",
      "Data columns (total 3 columns):\n",
      " #   Column      Non-Null Count   Dtype  \n",
      "---  ------      --------------   -----  \n",
      " 0   id_player   975948 non-null  float64\n",
      " 1   source      975948 non-null  object \n",
      " 2   updated_at  975948 non-null  object \n",
      "dtypes: float64(1), object(2)\n",
      "memory usage: 22.3+ MB\n",
      "None\n",
      "\n",
      "\n",
      "<class 'pandas.core.frame.DataFrame'>\n",
      "RangeIndex: 32340 entries, 0 to 32339\n",
      "Data columns (total 7 columns):\n",
      " #   Column               Non-Null Count  Dtype  \n",
      "---  ------               --------------  -----  \n",
      " 0   datarichiestapremio  32340 non-null  object \n",
      " 1   id_player            32340 non-null  float64\n",
      " 2   nomepremio           32340 non-null  object \n",
      " 3   puntipremio          32340 non-null  int64  \n",
      " 4   tipopremio           32340 non-null  object \n",
      " 5   formatPremio         32340 non-null  object \n",
      " 6   deliveryMode         32340 non-null  object \n",
      "dtypes: float64(1), int64(1), object(5)\n",
      "memory usage: 1.7+ MB\n",
      "None\n"
     ]
    }
   ],
   "source": [
    "print(registry_df.info())\n",
    "print('\\n')\n",
    "print(product_df.info())\n",
    "print('\\n')\n",
    "print(ean_df.info())\n",
    "print('\\n')\n",
    "print(missions_df.info())\n",
    "print('\\n')\n",
    "print(accesses_df.info())\n",
    "print('\\n')\n",
    "print(awards_df.info())"
   ]
  },
  {
   "cell_type": "code",
   "execution_count": null,
   "metadata": {},
   "outputs": [],
   "source": [
    "## percentage of missing values in each dataframe\n",
    "\n",
    "print(registry_df.isnull().sum() / registry_df.shape[0] * 100)\n",
    "print('\\n')\n",
    "print(product_df.isnull().sum() / product_df.shape[0] * 100)\n",
    "print('\\n')\n",
    "print(ean_df.isnull().sum() / ean_df.shape[0] * 100)\n",
    "print('\\n')\n",
    "print(missions_df.isnull().sum() / missions_df.shape[0] * 100)\n",
    "print('\\n')\n",
    "print(accesses_df.isnull().sum() / accesses_df.shape[0] * 100)\n",
    "print('\\n')\n",
    "print(awards_df.isnull().sum() / awards_df.shape[0] * 100)"
   ]
  },
  {
   "cell_type": "code",
   "execution_count": 5,
   "metadata": {},
   "outputs": [],
   "source": [
    "registry_df = registry_df.dropna()\n",
    "registry_df = registry_df[registry_df['ETA_MM_BambinoREG'] >= 0]"
   ]
  },
  {
   "cell_type": "code",
   "execution_count": 6,
   "metadata": {},
   "outputs": [],
   "source": [
    "product_df['missionDetail'] = product_df['missionDetail'].fillna('No mission')\n",
    "product_df['EAN'] = pd.to_numeric(product_df['EAN'], errors='coerce')"
   ]
  },
  {
   "cell_type": "code",
   "execution_count": 7,
   "metadata": {},
   "outputs": [],
   "source": [
    "ean_df['TIER'] = ean_df['TIER'].fillna('Unknown')"
   ]
  },
  {
   "cell_type": "code",
   "execution_count": 8,
   "metadata": {},
   "outputs": [],
   "source": [
    "missions_df['points'] = missions_df['points'].fillna(0)"
   ]
  },
  {
   "cell_type": "code",
   "execution_count": 9,
   "metadata": {},
   "outputs": [],
   "source": [
    "accesses_df['source'] = accesses_df['source'].fillna('Unknown')"
   ]
  },
  {
   "cell_type": "code",
   "execution_count": 10,
   "metadata": {},
   "outputs": [
    {
     "name": "stdout",
     "output_type": "stream",
     "text": [
      "  datarichiestapremio  id_player                 nomepremio  puntipremio  \\\n",
      "0          2022-01-20     1672.0  Bicicletta Personalizzata        21000   \n",
      "1          2021-10-20   537088.0  Velocipede Personalizzato        18000   \n",
      "2          2021-10-08   537088.0  Velocipede Personalizzato        18000   \n",
      "3          2022-01-27  1461448.0       Buono Sconto Photosì         3000   \n",
      "4          2021-12-28  1633286.0     Buono Sconto Leolandia            0   \n",
      "\n",
      "  tipopremio formatPremio deliveryMode  \n",
      "0      basic     physical         home  \n",
      "1      basic     physical         home  \n",
      "2      basic     physical         home  \n",
      "3       gift      digital        email  \n",
      "4    special      digital        email  \n"
     ]
    }
   ],
   "source": [
    "# Drop rows with missing values\n",
    "awards_df = awards_df.dropna()\n",
    "print(awards_df.head())\n",
    "\n",
    "# # Convert date columns to datetime objects\n",
    "# awards_df['datarichiestapremio'] = pd.to_datetime(awards_df['datarichiestapremio'], format='%Y-%m-%d')\n",
    "# awards_df['updated_at'] = pd.to_datetime(awards_df['updated_at'], format='%Y-%m-%d %H:%M:%S')"
   ]
  },
  {
   "cell_type": "code",
   "execution_count": 11,
   "metadata": {},
   "outputs": [
    {
     "name": "stdout",
     "output_type": "stream",
     "text": [
      "   id_player DtaRegUserData DtaPresuntoParto  ETA_MM_BambinoTODAY  \\\n",
      "0      72728     2020-01-25       2019-12-18                 33.0   \n",
      "1     948474     2021-02-23       2020-06-03                 27.0   \n",
      "2     489194     2020-09-25       2020-04-28                 29.0   \n",
      "3     448656     2020-08-19       2020-08-01                 25.0   \n",
      "4      34600     2019-12-05       2019-11-01                 34.0   \n",
      "\n",
      "   ETA_MM_BambinoREG Provincia SiglaProvincia             Comune    Regione  \\\n",
      "0                1.0   BELLUNO             BL            BELLUNO     VENETO   \n",
      "1                8.0      ASTI             AT               ASTI   PIEMONTE   \n",
      "2                4.0    MILANO             MI            VANZAGO  LOMBARDIA   \n",
      "3                0.0   VICENZA             VI  CORNEDO VICENTINO     VENETO   \n",
      "4                1.0  BRINDISI             BR           BRINDISI     PUGLIA   \n",
      "\n",
      "   total_points  accesses_count  awards_count  \n",
      "0       49200.0              14             1  \n",
      "1       61600.0               6             1  \n",
      "2       28000.0              19             3  \n",
      "3       28800.0              31             1  \n",
      "4       33000.0              10             1  \n"
     ]
    }
   ],
   "source": [
    "# Merge product_df with conversion_df\n",
    "product_df = product_df.merge(ean_df, on='EAN')\n",
    "\n",
    "# Merge missions_df with product_df\n",
    "missions_df = missions_df.merge(product_df, on='id_player')\n",
    "\n",
    "# Calculate the total points earned by each player\n",
    "total_points_df = missions_df.groupby('id_player')['points_x'].sum().reset_index()\n",
    "total_points_df.columns = ['id_player', 'total_points']\n",
    "\n",
    "# Merge registry_df with total_points_df\n",
    "registry_df = registry_df.merge(total_points_df, on='id_player')\n",
    "\n",
    "# Calculate the number of app accesses by each player\n",
    "accesses_count_df = accesses_df.groupby('id_player')['updated_at'].count().reset_index()\n",
    "accesses_count_df.columns = ['id_player', 'accesses_count']\n",
    "\n",
    "# Merge registry_df with accesses_count_df\n",
    "registry_df = registry_df.merge(accesses_count_df, on='id_player')\n",
    "\n",
    "# Calculate the number of awards requested by each player\n",
    "awards_count_df = awards_df.groupby('id_player')['datarichiestapremio'].count().reset_index()\n",
    "awards_count_df.columns = ['id_player', 'awards_count']\n",
    "\n",
    "# Merge registry_df with awards_count_df\n",
    "registry_df = registry_df.merge(awards_count_df, on='id_player')\n",
    "\n",
    "# Display the cleaned and transformed registry_df\n",
    "print(registry_df.head())"
   ]
  },
  {
   "cell_type": "code",
   "execution_count": 12,
   "metadata": {},
   "outputs": [
    {
     "ename": "KeyboardInterrupt",
     "evalue": "",
     "output_type": "error",
     "traceback": [
      "\u001b[1;31m---------------------------------------------------------------------------\u001b[0m",
      "\u001b[1;31mKeyboardInterrupt\u001b[0m                         Traceback (most recent call last)",
      "Cell \u001b[1;32mIn[12], line 11\u001b[0m\n\u001b[0;32m      9\u001b[0m \u001b[39m# Visualize outliers in accesses_df dataset\u001b[39;00m\n\u001b[0;32m     10\u001b[0m plt\u001b[39m.\u001b[39mfigure(figsize\u001b[39m=\u001b[39m(\u001b[39m8\u001b[39m, \u001b[39m6\u001b[39m))\n\u001b[1;32m---> 11\u001b[0m sns\u001b[39m.\u001b[39;49mboxplot(x\u001b[39m=\u001b[39;49maccesses_df[\u001b[39m'\u001b[39;49m\u001b[39msource\u001b[39;49m\u001b[39m'\u001b[39;49m], y\u001b[39m=\u001b[39;49maccesses_df[\u001b[39m'\u001b[39;49m\u001b[39mupdated_at\u001b[39;49m\u001b[39m'\u001b[39;49m])\n\u001b[0;32m     12\u001b[0m plt\u001b[39m.\u001b[39mxlabel(\u001b[39m'\u001b[39m\u001b[39mSource\u001b[39m\u001b[39m'\u001b[39m)\n\u001b[0;32m     13\u001b[0m plt\u001b[39m.\u001b[39mylabel(\u001b[39m'\u001b[39m\u001b[39mDate and Time of Connection\u001b[39m\u001b[39m'\u001b[39m)\n",
      "File \u001b[1;32mc:\\Python\\Python310\\lib\\site-packages\\seaborn\\categorical.py:2239\u001b[0m, in \u001b[0;36mboxplot\u001b[1;34m(data, x, y, hue, order, hue_order, orient, color, palette, saturation, width, dodge, fliersize, linewidth, whis, ax, **kwargs)\u001b[0m\n\u001b[0;32m   2236\u001b[0m     ax \u001b[39m=\u001b[39m plt\u001b[39m.\u001b[39mgca()\n\u001b[0;32m   2237\u001b[0m kwargs\u001b[39m.\u001b[39mupdate(\u001b[39mdict\u001b[39m(whis\u001b[39m=\u001b[39mwhis))\n\u001b[1;32m-> 2239\u001b[0m plotter\u001b[39m.\u001b[39;49mplot(ax, kwargs)\n\u001b[0;32m   2240\u001b[0m \u001b[39mreturn\u001b[39;00m ax\n",
      "File \u001b[1;32mc:\\Python\\Python310\\lib\\site-packages\\seaborn\\categorical.py:888\u001b[0m, in \u001b[0;36m_BoxPlotter.plot\u001b[1;34m(self, ax, boxplot_kws)\u001b[0m\n\u001b[0;32m    886\u001b[0m \u001b[39mdef\u001b[39;00m \u001b[39mplot\u001b[39m(\u001b[39mself\u001b[39m, ax, boxplot_kws):\n\u001b[0;32m    887\u001b[0m     \u001b[39m\"\"\"Make the plot.\"\"\"\u001b[39;00m\n\u001b[1;32m--> 888\u001b[0m     \u001b[39mself\u001b[39;49m\u001b[39m.\u001b[39;49mdraw_boxplot(ax, boxplot_kws)\n\u001b[0;32m    889\u001b[0m     \u001b[39mself\u001b[39m\u001b[39m.\u001b[39mannotate_axes(ax)\n\u001b[0;32m    890\u001b[0m     \u001b[39mif\u001b[39;00m \u001b[39mself\u001b[39m\u001b[39m.\u001b[39morient \u001b[39m==\u001b[39m \u001b[39m\"\u001b[39m\u001b[39mh\u001b[39m\u001b[39m\"\u001b[39m:\n",
      "File \u001b[1;32mc:\\Python\\Python310\\lib\\site-packages\\seaborn\\categorical.py:820\u001b[0m, in \u001b[0;36m_BoxPlotter.draw_boxplot\u001b[1;34m(self, ax, kws)\u001b[0m\n\u001b[0;32m    817\u001b[0m \u001b[39mif\u001b[39;00m box_data\u001b[39m.\u001b[39msize \u001b[39m==\u001b[39m \u001b[39m0\u001b[39m:\n\u001b[0;32m    818\u001b[0m     \u001b[39mcontinue\u001b[39;00m\n\u001b[1;32m--> 820\u001b[0m artist_dict \u001b[39m=\u001b[39m ax\u001b[39m.\u001b[39mboxplot(box_data,\n\u001b[0;32m    821\u001b[0m                          vert\u001b[39m=\u001b[39mvert,\n\u001b[0;32m    822\u001b[0m                          patch_artist\u001b[39m=\u001b[39m\u001b[39mTrue\u001b[39;00m,\n\u001b[0;32m    823\u001b[0m                          positions\u001b[39m=\u001b[39m[i],\n\u001b[0;32m    824\u001b[0m                          widths\u001b[39m=\u001b[39m\u001b[39mself\u001b[39m\u001b[39m.\u001b[39mwidth,\n\u001b[0;32m    825\u001b[0m                          \u001b[39m*\u001b[39m\u001b[39m*\u001b[39mkws)\n\u001b[0;32m    826\u001b[0m color \u001b[39m=\u001b[39m \u001b[39mself\u001b[39m\u001b[39m.\u001b[39mcolors[i]\n\u001b[0;32m    827\u001b[0m \u001b[39mself\u001b[39m\u001b[39m.\u001b[39mrestyle_boxplot(artist_dict, color, props)\n",
      "File \u001b[1;32mc:\\Python\\Python310\\lib\\site-packages\\matplotlib\\__init__.py:1459\u001b[0m, in \u001b[0;36m_preprocess_data.<locals>.inner\u001b[1;34m(ax, data, *args, **kwargs)\u001b[0m\n\u001b[0;32m   1456\u001b[0m \u001b[39m@functools\u001b[39m\u001b[39m.\u001b[39mwraps(func)\n\u001b[0;32m   1457\u001b[0m \u001b[39mdef\u001b[39;00m \u001b[39minner\u001b[39m(ax, \u001b[39m*\u001b[39margs, data\u001b[39m=\u001b[39m\u001b[39mNone\u001b[39;00m, \u001b[39m*\u001b[39m\u001b[39m*\u001b[39mkwargs):\n\u001b[0;32m   1458\u001b[0m     \u001b[39mif\u001b[39;00m data \u001b[39mis\u001b[39;00m \u001b[39mNone\u001b[39;00m:\n\u001b[1;32m-> 1459\u001b[0m         \u001b[39mreturn\u001b[39;00m func(ax, \u001b[39m*\u001b[39m\u001b[39mmap\u001b[39m(sanitize_sequence, args), \u001b[39m*\u001b[39m\u001b[39m*\u001b[39mkwargs)\n\u001b[0;32m   1461\u001b[0m     bound \u001b[39m=\u001b[39m new_sig\u001b[39m.\u001b[39mbind(ax, \u001b[39m*\u001b[39margs, \u001b[39m*\u001b[39m\u001b[39m*\u001b[39mkwargs)\n\u001b[0;32m   1462\u001b[0m     auto_label \u001b[39m=\u001b[39m (bound\u001b[39m.\u001b[39marguments\u001b[39m.\u001b[39mget(label_namer)\n\u001b[0;32m   1463\u001b[0m                   \u001b[39mor\u001b[39;00m bound\u001b[39m.\u001b[39mkwargs\u001b[39m.\u001b[39mget(label_namer))\n",
      "File \u001b[1;32mc:\\Python\\Python310\\lib\\site-packages\\matplotlib\\axes\\_axes.py:4010\u001b[0m, in \u001b[0;36mAxes.boxplot\u001b[1;34m(self, x, notch, sym, vert, whis, positions, widths, patch_artist, bootstrap, usermedians, conf_intervals, meanline, showmeans, showcaps, showbox, showfliers, boxprops, labels, flierprops, medianprops, meanprops, capprops, whiskerprops, manage_ticks, autorange, zorder, capwidths)\u001b[0m\n\u001b[0;32m   4007\u001b[0m                     \u001b[39mif\u001b[39;00m ci[\u001b[39m1\u001b[39m] \u001b[39mis\u001b[39;00m \u001b[39mnot\u001b[39;00m \u001b[39mNone\u001b[39;00m:\n\u001b[0;32m   4008\u001b[0m                         stats[\u001b[39m'\u001b[39m\u001b[39mcihi\u001b[39m\u001b[39m'\u001b[39m] \u001b[39m=\u001b[39m ci[\u001b[39m1\u001b[39m]\n\u001b[1;32m-> 4010\u001b[0m artists \u001b[39m=\u001b[39m \u001b[39mself\u001b[39;49m\u001b[39m.\u001b[39;49mbxp(bxpstats, positions\u001b[39m=\u001b[39;49mpositions, widths\u001b[39m=\u001b[39;49mwidths,\n\u001b[0;32m   4011\u001b[0m                    vert\u001b[39m=\u001b[39;49mvert, patch_artist\u001b[39m=\u001b[39;49mpatch_artist,\n\u001b[0;32m   4012\u001b[0m                    shownotches\u001b[39m=\u001b[39;49mnotch, showmeans\u001b[39m=\u001b[39;49mshowmeans,\n\u001b[0;32m   4013\u001b[0m                    showcaps\u001b[39m=\u001b[39;49mshowcaps, showbox\u001b[39m=\u001b[39;49mshowbox,\n\u001b[0;32m   4014\u001b[0m                    boxprops\u001b[39m=\u001b[39;49mboxprops, flierprops\u001b[39m=\u001b[39;49mflierprops,\n\u001b[0;32m   4015\u001b[0m                    medianprops\u001b[39m=\u001b[39;49mmedianprops, meanprops\u001b[39m=\u001b[39;49mmeanprops,\n\u001b[0;32m   4016\u001b[0m                    meanline\u001b[39m=\u001b[39;49mmeanline, showfliers\u001b[39m=\u001b[39;49mshowfliers,\n\u001b[0;32m   4017\u001b[0m                    capprops\u001b[39m=\u001b[39;49mcapprops, whiskerprops\u001b[39m=\u001b[39;49mwhiskerprops,\n\u001b[0;32m   4018\u001b[0m                    manage_ticks\u001b[39m=\u001b[39;49mmanage_ticks, zorder\u001b[39m=\u001b[39;49mzorder,\n\u001b[0;32m   4019\u001b[0m                    capwidths\u001b[39m=\u001b[39;49mcapwidths)\n\u001b[0;32m   4020\u001b[0m \u001b[39mreturn\u001b[39;00m artists\n",
      "File \u001b[1;32mc:\\Python\\Python310\\lib\\site-packages\\matplotlib\\axes\\_axes.py:4305\u001b[0m, in \u001b[0;36mAxes.bxp\u001b[1;34m(self, bxpstats, positions, widths, vert, patch_artist, shownotches, showmeans, showcaps, showbox, showfliers, boxprops, whiskerprops, flierprops, medianprops, capprops, meanprops, meanline, manage_ticks, zorder, capwidths)\u001b[0m\n\u001b[0;32m   4302\u001b[0m         axis\u001b[39m.\u001b[39mset_major_formatter(formatter)\n\u001b[0;32m   4303\u001b[0m     formatter\u001b[39m.\u001b[39mseq \u001b[39m=\u001b[39m [\u001b[39m*\u001b[39mformatter\u001b[39m.\u001b[39mseq, \u001b[39m*\u001b[39mdatalabels]\n\u001b[1;32m-> 4305\u001b[0m     \u001b[39mself\u001b[39;49m\u001b[39m.\u001b[39;49m_request_autoscale_view()\n\u001b[0;32m   4307\u001b[0m \u001b[39mreturn\u001b[39;00m \u001b[39mdict\u001b[39m(whiskers\u001b[39m=\u001b[39mwhiskers, caps\u001b[39m=\u001b[39mcaps, boxes\u001b[39m=\u001b[39mboxes,\n\u001b[0;32m   4308\u001b[0m             medians\u001b[39m=\u001b[39mmedians, fliers\u001b[39m=\u001b[39mfliers, means\u001b[39m=\u001b[39mmeans)\n",
      "File \u001b[1;32mc:\\Python\\Python310\\lib\\site-packages\\matplotlib\\axes\\_base.py:874\u001b[0m, in \u001b[0;36m_AxesBase._request_autoscale_view\u001b[1;34m(self, axis, tight)\u001b[0m\n\u001b[0;32m    860\u001b[0m \u001b[39mdef\u001b[39;00m \u001b[39m_request_autoscale_view\u001b[39m(\u001b[39mself\u001b[39m, axis\u001b[39m=\u001b[39m\u001b[39m\"\u001b[39m\u001b[39mall\u001b[39m\u001b[39m\"\u001b[39m, tight\u001b[39m=\u001b[39m\u001b[39mNone\u001b[39;00m):\n\u001b[0;32m    861\u001b[0m     \u001b[39m\"\"\"\u001b[39;00m\n\u001b[0;32m    862\u001b[0m \u001b[39m    Mark a single axis, or all of them, as stale wrt. autoscaling.\u001b[39;00m\n\u001b[0;32m    863\u001b[0m \n\u001b[1;32m   (...)\u001b[0m\n\u001b[0;32m    871\u001b[0m \u001b[39m    tight : bool or None, default: None\u001b[39;00m\n\u001b[0;32m    872\u001b[0m \u001b[39m    \"\"\"\u001b[39;00m\n\u001b[0;32m    873\u001b[0m     axis_names \u001b[39m=\u001b[39m _api\u001b[39m.\u001b[39mcheck_getitem(\n\u001b[1;32m--> 874\u001b[0m         {\u001b[39m*\u001b[39m\u001b[39m*\u001b[39m{k: [k] \u001b[39mfor\u001b[39;00m k \u001b[39min\u001b[39;00m \u001b[39mself\u001b[39m\u001b[39m.\u001b[39m_axis_names}, \u001b[39m\"\u001b[39m\u001b[39mall\u001b[39m\u001b[39m\"\u001b[39m: \u001b[39mself\u001b[39m\u001b[39m.\u001b[39m_axis_names},\n\u001b[0;32m    875\u001b[0m         axis\u001b[39m=\u001b[39maxis)\n\u001b[0;32m    876\u001b[0m     \u001b[39mfor\u001b[39;00m name \u001b[39min\u001b[39;00m axis_names:\n\u001b[0;32m    877\u001b[0m         \u001b[39mself\u001b[39m\u001b[39m.\u001b[39m_stale_viewlims[name] \u001b[39m=\u001b[39m \u001b[39mTrue\u001b[39;00m\n",
      "File \u001b[1;32mc:\\Python\\Python310\\lib\\site-packages\\matplotlib\\axes\\_base.py:874\u001b[0m, in \u001b[0;36m<dictcomp>\u001b[1;34m(.0)\u001b[0m\n\u001b[0;32m    860\u001b[0m \u001b[39mdef\u001b[39;00m \u001b[39m_request_autoscale_view\u001b[39m(\u001b[39mself\u001b[39m, axis\u001b[39m=\u001b[39m\u001b[39m\"\u001b[39m\u001b[39mall\u001b[39m\u001b[39m\"\u001b[39m, tight\u001b[39m=\u001b[39m\u001b[39mNone\u001b[39;00m):\n\u001b[0;32m    861\u001b[0m     \u001b[39m\"\"\"\u001b[39;00m\n\u001b[0;32m    862\u001b[0m \u001b[39m    Mark a single axis, or all of them, as stale wrt. autoscaling.\u001b[39;00m\n\u001b[0;32m    863\u001b[0m \n\u001b[1;32m   (...)\u001b[0m\n\u001b[0;32m    871\u001b[0m \u001b[39m    tight : bool or None, default: None\u001b[39;00m\n\u001b[0;32m    872\u001b[0m \u001b[39m    \"\"\"\u001b[39;00m\n\u001b[0;32m    873\u001b[0m     axis_names \u001b[39m=\u001b[39m _api\u001b[39m.\u001b[39mcheck_getitem(\n\u001b[1;32m--> 874\u001b[0m         {\u001b[39m*\u001b[39m\u001b[39m*\u001b[39m{k: [k] \u001b[39mfor\u001b[39;00m k \u001b[39min\u001b[39;00m \u001b[39mself\u001b[39m\u001b[39m.\u001b[39m_axis_names}, \u001b[39m\"\u001b[39m\u001b[39mall\u001b[39m\u001b[39m\"\u001b[39m: \u001b[39mself\u001b[39m\u001b[39m.\u001b[39m_axis_names},\n\u001b[0;32m    875\u001b[0m         axis\u001b[39m=\u001b[39maxis)\n\u001b[0;32m    876\u001b[0m     \u001b[39mfor\u001b[39;00m name \u001b[39min\u001b[39;00m axis_names:\n\u001b[0;32m    877\u001b[0m         \u001b[39mself\u001b[39m\u001b[39m.\u001b[39m_stale_viewlims[name] \u001b[39m=\u001b[39m \u001b[39mTrue\u001b[39;00m\n",
      "\u001b[1;31mKeyboardInterrupt\u001b[0m: "
     ]
    }
   ],
   "source": [
    "from sklearn.preprocessing import LabelEncoder\n",
    "\n",
    "le = LabelEncoder()\n",
    "accesses_df['source'] = le.fit_transform(accesses_df['source'])\n",
    "\n",
    "# Convert 'updated_at' column in accesses_df to datetime format\n",
    "accesses_df['updated_at'] = pd.to_datetime(accesses_df['updated_at'])\n",
    "\n",
    "# Visualize outliers in accesses_df dataset\n",
    "plt.figure(figsize=(8, 6))\n",
    "sns.boxplot(x=accesses_df['source'], y=accesses_df['updated_at'])\n",
    "plt.xlabel('Source')\n",
    "plt.ylabel('Date and Time of Connection')\n",
    "plt.title('Outliers in App Accesses')\n",
    "plt.show()\n"
   ]
  },
  {
   "cell_type": "code",
   "execution_count": null,
   "metadata": {},
   "outputs": [],
   "source": [
    "# Visualize outliers in missions_df dataset\n",
    "plt.figure(figsize=(8, 6))\n",
    "sns.boxplot(x=missions_df['points'])\n",
    "plt.xlabel('Points Gained in the Mission')\n",
    "plt.title('Outliers in Missions Players')\n",
    "plt.show()\n"
   ]
  },
  {
   "cell_type": "code",
   "execution_count": null,
   "metadata": {},
   "outputs": [],
   "source": [
    "# Visualize outliers in product_df dataset\n",
    "plt.figure(figsize=(8, 6))\n",
    "sns.boxplot(x=product_df['points'])\n",
    "plt.xlabel('Points Gained for that Product')\n",
    "plt.title('Outliers in Product Loaded')\n",
    "plt.show()\n"
   ]
  },
  {
   "cell_type": "code",
   "execution_count": null,
   "metadata": {},
   "outputs": [],
   "source": [
    "# Visualize outliers in awards_df dataset\n",
    "plt.figure(figsize=(8, 6))\n",
    "sns.boxplot(x=awards_df['puntipremio'])\n",
    "plt.xlabel('Points Required to Obtain the Prize')\n",
    "plt.title('Outliers in Awards Moms')\n",
    "plt.show()"
   ]
  },
  {
   "cell_type": "code",
   "execution_count": null,
   "metadata": {},
   "outputs": [],
   "source": []
  }
 ],
 "metadata": {
  "kernelspec": {
   "display_name": "Python 3",
   "language": "python",
   "name": "python3"
  },
  "language_info": {
   "codemirror_mode": {
    "name": "ipython",
    "version": 3
   },
   "file_extension": ".py",
   "mimetype": "text/x-python",
   "name": "python",
   "nbconvert_exporter": "python",
   "pygments_lexer": "ipython3",
   "version": "3.10.4"
  },
  "orig_nbformat": 4
 },
 "nbformat": 4,
 "nbformat_minor": 2
}
