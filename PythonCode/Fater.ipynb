{
 "cells": [
  {
   "cell_type": "code",
   "execution_count": 6,
   "metadata": {},
   "outputs": [],
   "source": [
    "import pandas as pd\n",
    "# import matplotlib.pyplot as plt\n",
    "# import seaborn as sns"
   ]
  },
  {
   "cell_type": "code",
   "execution_count": 7,
   "metadata": {},
   "outputs": [],
   "source": [
    "award_info_df = pd.read_csv(\n",
    "    'DataSet/business_game_napoli_csv/premi_mamme.csv')\n",
    "\n",
    "registry_df = pd.read_csv(\n",
    "    'DataSet/business_game_napoli_csv/anagrafica.csv')\n",
    "\n",
    "mission_player = pd.read_csv(\n",
    "    'DataSet/business_game_napoli_csv/missioni_players.csv')"
   ]
  },
  {
   "cell_type": "code",
   "execution_count": 10,
   "metadata": {},
   "outputs": [],
   "source": [
    "def cleaning_registry(registry_df):\n",
    "    \n",
    "    if sum(registry_df.id_player.isnull()) > 0:\n",
    "        registry_df = registry_df[(registry_df['id_player'] != None) & (registry_df['DtaPresuntoParto'] != None)]\n",
    "    \n",
    "    return registry_df\n",
    "\n",
    "\n",
    "def cleaning_mission_player(mission_player):\n",
    "    if sum()"
   ]
  },
  {
   "cell_type": "code",
   "execution_count": 11,
   "metadata": {},
   "outputs": [
    {
     "name": "stdout",
     "output_type": "stream",
     "text": [
      "       id_player DtaRegUserData DtaPresuntoParto  ETA_MM_BambinoTODAY  \\\n",
      "0        1878238     2022-06-16       2021-11-22                 10.0   \n",
      "1        1289508     2021-06-09       2021-03-03                 18.0   \n",
      "2        1170534     2018-10-19       2021-01-14                 20.0   \n",
      "3         964802     2021-03-02       2021-02-13                 19.0   \n",
      "4         549416     2020-03-24       2020-11-08                 22.0   \n",
      "...          ...            ...              ...                  ...   \n",
      "45965     383314     2019-07-04       2020-02-14                 31.0   \n",
      "45966     298382     2020-05-05       2020-05-25                 28.0   \n",
      "45967      25428     2019-03-11       2019-11-04                 34.0   \n",
      "45968     684532     2020-05-27       2020-12-14                 21.0   \n",
      "45969     245804     2020-04-17       2021-10-28                 11.0   \n",
      "\n",
      "       ETA_MM_BambinoREG   Provincia SiglaProvincia              Comune  \\\n",
      "0                    6.0     TARANTO             TA                 NaN   \n",
      "1                    3.0       LUCCA             LU                 NaN   \n",
      "2                  -27.0     MANTOVA             MN        RONCOFERRARO   \n",
      "3                    0.0     RAVENNA             RA             RAVENNA   \n",
      "4                   -8.0       CUNEO             CN                 BRA   \n",
      "...                  ...         ...            ...                 ...   \n",
      "45965               -8.0    SIRACUSA             SR             LENTINI   \n",
      "45966               -1.0     MESSINA             ME             MESSINA   \n",
      "45967               -8.0  CAMPOBASSO             CB       PIETRACATELLA   \n",
      "45968               -7.0     SALERNO             SA  SAN GREGORIO MAGNO   \n",
      "45969              -19.0   PORDENONE             PN              SACILE   \n",
      "\n",
      "                     Regione  \n",
      "0                     PUGLIA  \n",
      "1                    TOSCANA  \n",
      "2                  LOMBARDIA  \n",
      "3             EMILIA-ROMAGNA  \n",
      "4                   PIEMONTE  \n",
      "...                      ...  \n",
      "45965                SICILIA  \n",
      "45966                SICILIA  \n",
      "45967                 MOLISE  \n",
      "45968               CAMPANIA  \n",
      "45969  FRIULI-VENEZIA GIULIA  \n",
      "\n",
      "[43105 rows x 9 columns]\n"
     ]
    }
   ],
   "source": [
    "cleaning_registry(registry_df)"
   ]
  },
  {
   "cell_type": "code",
   "execution_count": null,
   "metadata": {},
   "outputs": [],
   "source": []
  }
 ],
 "metadata": {
  "kernelspec": {
   "display_name": "Python 3",
   "language": "python",
   "name": "python3"
  },
  "language_info": {
   "codemirror_mode": {
    "name": "ipython",
    "version": 3
   },
   "file_extension": ".py",
   "mimetype": "text/x-python",
   "name": "python",
   "nbconvert_exporter": "python",
   "pygments_lexer": "ipython3",
   "version": "3.10.4"
  },
  "orig_nbformat": 4,
  "vscode": {
   "interpreter": {
    "hash": "6e88800843c058c82b813375dda845134d1eb9652fd361a16aaf523eb577cb29"
   }
  }
 },
 "nbformat": 4,
 "nbformat_minor": 2
}
